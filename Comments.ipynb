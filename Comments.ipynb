{
 "cells": [
  {
   "cell_type": "markdown",
   "metadata": {
    "collapsed": false
   },
   "source": [
    "#### Auto-Comment Writer by Ryan and Jane\n",
    "###### Here's how the code is broken up:\n",
    "- Utility functions\n",
    "- Main body functions\n",
    "    - Introduction\n",
    "    - Soft skills\n",
    "    - Hard skills\n",
    "    - Custom text\n",
    "    - Conclusion\n",
    "- create_comment function (assembles all the strings)\n",
    "- Final code that runs the create_comment function"
   ]
  },
  {
   "cell_type": "markdown",
   "metadata": {
    "collapsed": false
   },
   "source": [
    "#### Utility Functions:\n",
    "###### Documentation for regex_solve:\n",
    "\n",
    "###### Usage: regex_solve(student, string)\n",
    "- student (required): list of student data in standard form\n",
    "- string (required): string which contains the values which you would like to replace\n",
    "\n",
    "###### Codes to be replaced:\n",
    "- [p] = pronoun (he, him, they)\n",
    "- [P] = capitalized pronoun (He, Him, They)\n",
    "- [n] = name (Ryan, Jimmy, John)\n",
    "- [pp] = pronoun plural (either 's' or '')\n",
    "- [ia] = is or are\n",
    "- [hh] = has or have"
   ]
  },
  {
   "cell_type": "code",
   "execution_count": 42,
   "metadata": {
    "collapsed": false
   },
   "outputs": [
   ],
   "source": [
    "def regex_solve(student, string): # I made my own function that works like regular expressions but it doen't want to make you jump off a clif every time you use it. Works mostly for names and pronouns.\n",
    "    name = student[1]\n",
    "    pronoun = ''\n",
    "    pronoun_plural = ''\n",
    "    pronoun_alt = ''\n",
    "    is_are = ''\n",
    "    have_has = ''\n",
    "    if student[2] == 'M':\n",
    "        pronoun = 'he'\n",
    "        pronoun_alt = 'him'\n",
    "        pronoun_plural = 's'\n",
    "        is_are = 'is'\n",
    "        have_has = 'has'\n",
    "    elif student[2] == 'F':\n",
    "        pronoun = 'she'\n",
    "        pronoun_alt = 'she'\n",
    "        pronoun_plural = 's'\n",
    "        is_are = 'is'\n",
    "        have_has = 'has'\n",
    "    else:\n",
    "        pronoun = 'they'\n",
    "        pronoun_alt = 'them'\n",
    "        pronoun_plural = ''\n",
    "        is_are = 'are'\n",
    "        have_has = 'have'\n",
    "    string = string.replace('[n]', name)\n",
    "    string = string.replace('[p]', pronoun)\n",
    "    string = string.replace('[P]', pronoun.capitalize())\n",
    "    string = string.replace('[pp]', pronoun_plural)\n",
    "    string = string.replace('[pa]', pronoun_alt)\n",
    "    string = string.replace('[ia]', is_are)\n",
    "    string = string.replace('[hh]', have_has)\n",
    "    return string"
   ]
  },
  {
   "cell_type": "markdown",
   "metadata": {
    "collapsed": false
   },
   "source": [
    "##### Overview Function"
   ]
  },
  {
   "cell_type": "code",
   "execution_count": 19,
   "metadata": {
    "collapsed": false
   },
   "outputs": [
   ],
   "source": [
    "def create_overview(student):\n",
    "    overview = 'This semester of Computer Science builds on the skills and concepts learned in our previous computer science courses.  The topics challenge students to explore how computing and technology can impact the world, with a unique focus on creative problem solving and real-world applications. Through a project-based approach, students have worked towards mastering the fundamentals of computational thinking and problem-solving using the Python programming language.'\n",
    "    return overview"
   ]
  },
  {
   "cell_type": "markdown",
   "metadata": {
    "collapsed": false
   },
   "source": [
    "##### Soft Skills Function"
   ]
  },
  {
   "cell_type": "code",
   "execution_count": 20,
   "metadata": {
    "collapsed": false
   },
   "outputs": [
    {
     "name": "stdout",
     "output_type": "stream",
     "text": [
      "Florence has good performance in collaboration, asking for help, and perseverance. Average performance in work ethic. Terrible performance in generosity. She is generally mean and negative towards other students in class.\n",
      "\n",
      "Elon has stellar performance in work ethic, and perseverance. Average performance in asking for help. Poor performance in generosity. Terrible performance in collaboration. He works in a focused manner outside and inside of class.\n",
      "\n",
      "Asha has stellar performance in collaboration, work ethic, asking for help, generosity, and perseverance. She works in a focused manner outside and inside of class.\n",
      "\n",
      "Justin has stellar performance in work ethic, and asking for help. Good performance in collaboration, generosity, and perseverance. They work in a focused manner outside and inside of class.\n",
      "\n",
      "Bill has good performance in collaboration, work ethic, asking for help, and perseverance. Poor performance in generosity. \n",
      "\n"
     ]
    }
   ],
   "source": [
    "def create_soft_skills(student):\n",
    "    aspects_list = ['collaboration', 'work ethic', 'asking for help', 'generosity', 'perseverance']\n",
    "    student_aspects = {}\n",
    "    student_performance = {'stellar':[],'good':[],'average':[],'poor':[],'terrible':[]}\n",
    "\n",
    "    name = student[1]\n",
    "    output = '[n] has '\n",
    "    index = 0\n",
    "    for aspect in student[3:8]:\n",
    "        student_aspects[aspects_list[index]] = aspect\n",
    "        index += 1\n",
    "\n",
    "    for aspect in student_aspects:\n",
    "        value = int(student_aspects[aspect])\n",
    "        if value >= 9:\n",
    "            student_performance['stellar'].append(aspect)\n",
    "        elif value < 9 and value >= 7:\n",
    "            student_performance['good'].append(aspect)\n",
    "        elif value < 7 and value >= 5:\n",
    "            student_performance['average'].append(aspect)\n",
    "        elif value < 5 and value >= 3:\n",
    "            student_performance['poor'].append(aspect)\n",
    "        elif value < 3:\n",
    "            student_performance['terrible'].append(aspect)\n",
    "\n",
    "    outter_index = 0\n",
    "    for level in student_performance:\n",
    "        if len(student_performance[level]) > 0:\n",
    "            index = 0\n",
    "            if index == 0 and outter_index != 0:\n",
    "                level = level.capitalize()\n",
    "            output += level + ' performance in '\n",
    "            level = level.lower()\n",
    "            for aspect in student_performance[level]:\n",
    "                if(len(student_performance[level]) - 1 == index and len(student_performance[level]) != 1):\n",
    "                    output += 'and ' + aspect + '. '\n",
    "                elif (len(student_performance[level]) - 1 == index and len(student_performance[level]) == 1):\n",
    "                    output += aspect + '. '\n",
    "                else:\n",
    "                    output += aspect + ', '\n",
    "                index += 1\n",
    "            outter_index += 1\n",
    "\n",
    "    # done with first part\n",
    "    stellar_work_ethic = '[P] work[pp] in a focused manner outside and inside of class.'\n",
    "    stellar_perserverance = '[P] work[pp] efficiently through challenges both large and small.'\n",
    "    stellar_generosity = '[P] share[pp] ideas and concepts with classmates to build a nuturing learning environemnt.'\n",
    "    stellar_asks_for_help = '[P] consistantly ask me for help when they are struggling to solve their problems.'\n",
    "    terrible_generosity = '[P] [ia] generally mean and negative towards other students in class.'\n",
    "    terrible_collaboration = '[P] doesn\\'t want to work with others, and constantly secules themselves to a corner of the room.'\n",
    "    if 'work ethic' in student_performance['stellar']:\n",
    "        output += stellar_work_ethic\n",
    "    elif 'perserverance' in student_performance['stellar']:\n",
    "        output += stellar_perserverance\n",
    "    elif 'generosity' in student_performance['stellar']:\n",
    "        output += stellar_generosity\n",
    "    elif 'asking for help' in student_performance['stellar']:\n",
    "        output += stellar_asks_for_help\n",
    "    elif 'generosity' in student_performance['terrible']:\n",
    "        output += terrible_generosity\n",
    "    elif 'collaboration' in student_performance['terrible']:\n",
    "        output += terrible_collaboration\n",
    "\n",
    "    # done with second part\n",
    "    output = regex_solve(student, output)\n",
    "    return output\n",
    "    output = ''\n",
    "\n",
    "with open('data.csv') as f:\n",
    "    header = f.readline()\n",
    "    for line in f:\n",
    "        print(create_soft_skills(line.split(',')) + '\\n')"
   ]
  },
  {
   "cell_type": "markdown",
   "metadata": {
    "collapsed": false
   },
   "source": [
    "##### Hard Skills Function"
   ]
  },
  {
   "cell_type": "code",
   "execution_count": 71,
   "metadata": {
    "collapsed": false
   },
   "outputs": [
    {
     "name": "stdout",
     "output_type": "stream",
     "text": [
      "The workload of this semester is more difficult than the previous one, because we are learning knowledge to prepare for the AP exam. For now, Florence has an overall grade of B, which shows a quite complete understanding of the materials we covered in the semester. In the final cumulative test, she got 78%.\n",
      "The workload of this semester is more difficult than the previous one, because we are learning knowledge to prepare for the AP exam. For now, Elon has an overall grade of B+, which shows a decent understanding of the materials we covered in the semester. In the final cumulative test, he got 72%.\n",
      "The workload of this semester is more difficult than the previous one, because we are learning knowledge to prepare for the AP exam. For now, Asha has an overall grade of C, which shows some lack of understanding of the materials we covered in the semester. In the final cumulative test, she got 83%.\n",
      "The workload of this semester is more difficult than the previous one, because we are learning knowledge to prepare for the AP exam. For now, Justin have an overall grade of B+, which shows a decent understanding of the materials we covered in the semester. In the final cumulative test, they got 92%.\n",
      "The workload of this semester is more difficult than the previous one, because we are learning knowledge to prepare for the AP exam. For now, Bill has an overall grade of A, which shows an excellent overal understanding of the materials we covered in the semester. In the final cumulative test, he got 90%.\n"
     ]
    }
   ],
   "source": [
    "def create_hard_skills1(student):\n",
    "    percentage_grade = float(student[14])\n",
    "    overal_comment = 'The workload of this semester is more difficult than the previous one, because we are learning knowledge to prepare for the AP exam. For now,'\n",
    "    if percentage_grade >= 93:\n",
    "        letter = 'A'\n",
    "        comment = 'which shows an excellent overal understanding of the materials we covered in the semester.'\n",
    "    elif percentage_grade >= 90:\n",
    "        letter = 'A-'\n",
    "        comment = 'which shows a great understanding of the materials we covered in the semester.'\n",
    "    elif percentage_grade >= 87:\n",
    "        letter = 'B+'\n",
    "        comment = 'which shows a decent understanding of the materials we covered in the semester.'\n",
    "    elif percentage_grade >= 83:\n",
    "        letter = 'B'\n",
    "        comment = 'which shows a quite complete understanding of the materials we covered in the semester.'\n",
    "    elif percentage_grade >= 80:\n",
    "        letter = 'B-'\n",
    "        comment = 'which shows a developing understanding of the materials we covered in the semester.'\n",
    "    elif percentage_grade >= 77:\n",
    "        letter = 'C+'\n",
    "        comment = 'which shows an incomplete understanding of the materials we covered in the semester.'\n",
    "    elif percentage_grade >= 73:\n",
    "        letter = 'C'\n",
    "        comment = 'which shows some lack of understanding of the materials we covered in the semester.'\n",
    "    elif percentage_grade >= 70:\n",
    "        letter = 'C-'\n",
    "        comment = 'which shows significant lack of understanding to understand of the materials we covered in the semester.'\n",
    "    elif percentage_grade >= 67:\n",
    "        letter = 'D+'\n",
    "        comment = 'which shows a need for extra help to understand of the materials we covered in the semester.'\n",
    "    elif percentage_grade >= 63:\n",
    "        letter = 'D'\n",
    "        comment = 'which shows a need for lots of extra help of the materials we covered in the semester.'\n",
    "    elif percentage_grade >= 60:\n",
    "        letter = 'D-'\n",
    "        comment = 'which shows misunderstanding and failure to understand the materials we covered in the semester.'\n",
    "    else:\n",
    "        letter = 'F'\n",
    "        comment = 'which shows complete failure to understand of the materials we covered in the semester.'\n",
    "       \n",
    "    hardskill1= overal_comment +' '+ '[n] [hh]' + ' an overall grade of ' + letter +', '+ comment +' In the final cumulative test, ' + '[p]' + ' got ' +student[13] +'%.'\n",
    "    hardskill1 = regex_solve(student, hardskill1)\n",
    "    return hardskill1\n",
    "\n",
    "with open('data.csv') as f:\n",
    "    header = f.readline()\n",
    "    for line in f:\n",
    "        print(create_hard_skills1(line.strip().split(',')))"
   ]
  },
  {
   "cell_type": "code",
   "execution_count": 88,
   "metadata": {
    "collapsed": false
   },
   "outputs": [
    {
     "name": "stdout",
     "output_type": "stream",
     "text": [
      "We also did some patner projects this semester. Students are randomly paired, and the pairs have about a week to use the knowledge we have learned so far to create a project together. Among the three partner projects we did, Florence got at least one C. I encourage Florence to stop by my office more often during office hour for some help. She really needs to spend more time on computer science before the AP exam comes in May!\n",
      "We also did some patner projects this semester. Students are randomly paired, and the pairs have about a week to use the knowledge we have learned so far to create a project together. Among the three partner projects we did, Elon got at least one project in the B range. I am not worrying too much, But I encourage him to communicate more with the partner next time.\n",
      "We also did some patner projects this semester. Students are randomly paired, and the pairs have about a week to use the knowledge we have learned so far to create a project together. Among the three partner projects we did, Asha got at least one C. I encourage Asha to stop by my office more often during office hour for some help. She really needs to spend more time on computer science before the AP exam comes in May!\n",
      "We also did some patner projects this semester. Students are randomly paired, and the pairs have about a week to use the knowledge we have learned so far to create a project together. Among the three partner projects we did, Justin got at least one project in the B range. I am not worrying too much, But I encourage them to communicate more with the partner next time.\n",
      "We also did some patner projects this semester. Students are randomly paired, and the pairs have about a week to use the knowledge we have learned so far to create a project together. Among the three partner projects we did, Bill got all of the partner projects in the A range! Excellent job! Keep working hard, Bill!\n"
     ]
    }
   ],
   "source": [
    "def create_hard_skills2(student):\n",
    "    overal_project_comment = 'We also did some patner projects this semester. Students are randomly paired, and the pairs have about a week to use the knowledge we have learned so far to create a project together. Among the three partner projects we did,'\n",
    "    projects_comments = ''\n",
    "    if int(student[8]) < 60 or int(student[9]) < 60 or int(student[10]) < 60:\n",
    "        projects_comments = ' got at least one F for the partner projects! ' +'[P]' +' really needs to spend more time on computer science projects. I am worrying about their performance at the AP exam.'\n",
    "    elif int(student[8]) >= 60 or int(student[9]) >= 60 or int(student[10]) >= 60:\n",
    "        projects_comments = ' got at least one D for the partner projects.' + '[P]' +'is currently a little behind, and I am willing to offer some extra help to help [pa] .'\n",
    "    elif int(student[8]) >= 70 or int(student[9]) >= 70 or int(student[10]) >= 70:\n",
    "        projects_comments = ' got at least one C. I encourage '+ student[1] + ' to stop by my office more often during office hour for some help. '+'[P]'+' really needs to spend more time on computer science before the AP exam comes in May!'\n",
    "    elif int(student[8]) >= 80 or int(student[9]) >= 80 or int(student[10]) >= 80:\n",
    "        projects_comments = ' got at least one project in the B range. I am not worrying too much, But I encourage '+'[pa]'+' to communicate more with the partner next time.'\n",
    "    elif int(student[8]) >= 90 and int(student[9]) >= 90 and int(student[10]) >= 90:\n",
    "        projects_comments = ' got all of the partner projects in the A range! Excellent job! Keep working hard, '+student[1]+'!'\n",
    "                        \n",
    "    hardskill2 = overal_project_comment+' '+ student[1] +projects_comments\n",
    "    hardskill2 = regex_solve(student, hardskill2)\n",
    "    return hardskill2\n",
    "\n",
    "with open('data.csv') as f:\n",
    "    header = f.readline()\n",
    "    for line in f:\n",
    "        print(create_hard_skills2(line.strip().split(',')))"
   ]
  },
  {
   "cell_type": "markdown",
   "metadata": {
    "collapsed": false
   },
   "source": [
    "##### Custom Function"
   ]
  },
  {
   "cell_type": "code",
   "execution_count": 58,
   "metadata": {
    "collapsed": false
   },
   "outputs": [
   ],
   "source": [
    "def create_custom(student):\n",
    "    custom = input('Type your custom text here for ' + student[1] + ':')\n",
    "    if len(custom) == 0:\n",
    "        return ''\n",
    "    else:\n",
    "        return custom + '\\n'"
   ]
  },
  {
   "cell_type": "markdown",
   "metadata": {
    "collapsed": false
   },
   "source": [
    "##### Conclusion Function"
   ]
  },
  {
   "cell_type": "code",
   "execution_count": 89,
   "metadata": {
    "collapsed": false
   },
   "outputs": [
   ],
   "source": [
    "def create_conclusion(student):\n",
    "    grade = float(student[14])\n",
    "    descriptors = ['amazing', 'good', 'ok', 'rough', 'hard']\n",
    "    descriptor = ''\n",
    "    if grade >= 90:\n",
    "        descriptor = descriptors[0]\n",
    "    elif grade >= 80:\n",
    "        descriptor = descriptors[1]\n",
    "    elif grade >= 70:\n",
    "        descriptor = descriptors[2]\n",
    "    elif grade >= 60:\n",
    "        descriptor = descriptors[3]\n",
    "    else:\n",
    "        descriptor = descriptors[4]\n",
    "\n",
    "    first_project = student[8]\n",
    "    last_project = student[10]\n",
    "    first_test = student[11]\n",
    "    last_test = student[13]\n",
    "\n",
    "    project_slope = float(last_project) - float(first_project)\n",
    "    test_slope = float(last_test) - float(first_test)\n",
    "\n",
    "    project_slope_name = ''\n",
    "    test_slope_name = ''\n",
    "\n",
    "    if project_slope >= 0:\n",
    "        project_slope_name = 'increasing'\n",
    "    else:\n",
    "        project_slope_name = 'decreasing'\n",
    "\n",
    "    if test_slope >= 0:\n",
    "        test_slope_name = 'increasing'\n",
    "    else:\n",
    "        test_slope_name = 'decreasing'\n",
    "\n",
    "    conclusion = 'Overall, this semester has been ' + descriptor + ' for [n]. [P] [hh] ' + project_slope_name + ' project grades and ' + test_slope_name + ' test grades. I look forward to where [n] will go in the future!'\n",
    "    conclusion = regex_solve(student, conclusion)\n",
    "    return conclusion"
   ]
  },
  {
   "cell_type": "markdown",
   "metadata": {
    "collapsed": false
   },
   "source": [
    "##### Create_comment Assembly Function"
   ]
  },
  {
   "cell_type": "code",
   "execution_count": 90,
   "metadata": {
    "collapsed": false
   },
   "outputs": [
   ],
   "source": [
    "def create_comment(student): # pass the student objet to this function to create the comment\n",
    "    # overview\n",
    "    # soft skills\n",
    "    # hard skills\n",
    "    # conclusion –> trend, future ideas, \n",
    "    output = create_overview(student) + '\\n' + create_soft_skills(student) + '\\n' + create_hard_skills1(student) + '\\n' + create_hard_skills2(student) + '\\n' + create_custom(student) + create_conclusion(student)\n",
    "    return(output)"
   ]
  },
  {
   "cell_type": "markdown",
   "metadata": {
    "collapsed": false
   },
   "source": [
    "##### And finally: loop through each student and create_comment:"
   ]
  },
  {
   "cell_type": "code",
   "execution_count": 91,
   "metadata": {
    "cocalc": {
     "outputs": {
      "0": {
       "name": "input",
       "opts": {
        "password": false,
        "prompt": "Type your custom text here for Florence:"
       },
       "output_type": "stream",
       "value": " "
      },
      "1": {
       "name": "input",
       "opts": {
        "password": false,
        "prompt": "Type your custom text here for Elon:"
       },
       "output_type": "stream"
      },
      "3": {
       "name": "input",
       "opts": {
        "password": false,
        "prompt": "Type your custom text here for Asha:"
       },
       "output_type": "stream"
      },
      "6": {
       "name": "input",
       "opts": {
        "password": false,
        "prompt": "Type your custom text here for Justin:"
       },
       "output_type": "stream",
       "value": " "
      },
      "8": {
       "name": "input",
       "opts": {
        "password": false,
        "prompt": "Type your custom text here for Bill:"
       },
       "output_type": "stream"
      }
     }
    },
    "collapsed": false
   },
   "outputs": [
    {
     "name": "stdout",
     "output_type": "stream",
     "text": "Type your custom text here for Florence:  "
    },
    {
     "name": "stdout",
     "output_type": "stream",
     "text": "Type your custom text here for Elon: "
    },
    {
     "name": "stdout",
     "output_type": "stream",
     "text": [
      "Florence\n",
      "This semester of Computer Science builds on the skills and concepts learned in our previous computer science courses.  The topics challenge students to explore how computing and technology can impact the world, with a unique focus on creative problem solving and real-world applications. Through a project-based approach, students have worked towards mastering the fundamentals of computational thinking and problem-solving using the Python programming language.\n",
      "Florence has good performance in collaboration, asking for help, and perseverance. Average performance in work ethic. Terrible performance in generosity. She is generally mean and negative towards other students in class.\n",
      "The workload of this semester is more difficult than the previous one, because we are learning knowledge to prepare for the AP exam. For now, Florence has an overall grade of B, which shows a quite complete understanding of the materials we covered in the semester. In the final cumulative test, she got 78%.\n",
      "We also did some patner projects this semester. Students are randomly paired, and the pairs have about a week to use the knowledge we have learned so far to create a project together. Among the three partner projects we did, Florence got at least one C. I encourage Florence to stop by my office more often during office hour for some help. She really needs to spend more time on computer science before the AP exam comes in May!\n",
      " \n",
      "Overall, this semester has been good for Florence. She has increasing project grades and decreasing test grades. I look forward to where Florence will go in the future!\n",
      "\n",
      "\n",
      "\n"
     ],
     "value": " "
    },
    {
     "name": "stdout",
     "output_type": "stream",
     "text": "Type your custom text here for Asha: "
    },
    {
     "name": "stdout",
     "output_type": "stream",
     "text": [
      "Elon\n",
      "This semester of Computer Science builds on the skills and concepts learned in our previous computer science courses.  The topics challenge students to explore how computing and technology can impact the world, with a unique focus on creative problem solving and real-world applications. Through a project-based approach, students have worked towards mastering the fundamentals of computational thinking and problem-solving using the Python programming language.\n",
      "Elon has stellar performance in work ethic, and perseverance. Average performance in asking for help. Poor performance in generosity. Terrible performance in collaboration. He works in a focused manner outside and inside of class.\n",
      "The workload of this semester is more difficult than the previous one, because we are learning knowledge to prepare for the AP exam. For now, Elon has an overall grade of B+, which shows a decent understanding of the materials we covered in the semester. In the final cumulative test, he got 72%.\n",
      "We also did some patner projects this semester. Students are randomly paired, and the pairs have about a week to use the knowledge we have learned so far to create a project together. Among the three partner projects we did, Elon got at least one project in the B range. I am not worrying too much, But I encourage him to communicate more with the partner next time.\n",
      " \n",
      "Overall, this semester has been good for Elon. He has decreasing project grades and decreasing test grades. I look forward to where Elon will go in the future!\n",
      "\n",
      "\n",
      "\n"
     ],
     "value": " "
    },
    {
     "name": "stdout",
     "output_type": "stream",
     "text": [
      "Asha\n",
      "This semester of Computer Science builds on the skills and concepts learned in our previous computer science courses.  The topics challenge students to explore how computing and technology can impact the world, with a unique focus on creative problem solving and real-world applications. Through a project-based approach, students have worked towards mastering the fundamentals of computational thinking and problem-solving using the Python programming language.\n",
      "Asha has stellar performance in collaboration, work ethic, asking for help, generosity, and perseverance. She works in a focused manner outside and inside of class.\n",
      "The workload of this semester is more difficult than the previous one, because we are learning knowledge to prepare for the AP exam. For now, Asha has an overall grade of C, which shows some lack of understanding of the materials we covered in the semester. In the final cumulative test, she got 83%.\n",
      "We also did some patner projects this semester. Students are randomly paired, and the pairs have about a week to use the knowledge we have learned so far to create a project together. Among the three partner projects we did, Asha got at least one C. I encourage Asha to stop by my office more often during office hour for some help. She really needs to spend more time on computer science before the AP exam comes in May!\n",
      " \n",
      "Overall, this semester has been ok for Asha. She has decreasing project grades and increasing test grades. I look forward to where Asha will go in the future!\n",
      "\n",
      "\n",
      "\n"
     ]
    },
    {
     "name": "stdout",
     "output_type": "stream",
     "text": "Type your custom text here for Justin:  "
    },
    {
     "name": "stdout",
     "output_type": "stream",
     "text": [
      "Justin\n",
      "This semester of Computer Science builds on the skills and concepts learned in our previous computer science courses.  The topics challenge students to explore how computing and technology can impact the world, with a unique focus on creative problem solving and real-world applications. Through a project-based approach, students have worked towards mastering the fundamentals of computational thinking and problem-solving using the Python programming language.\n",
      "Justin has stellar performance in work ethic, and asking for help. Good performance in collaboration, generosity, and perseverance. They work in a focused manner outside and inside of class.\n",
      "The workload of this semester is more difficult than the previous one, because we are learning knowledge to prepare for the AP exam. For now, Justin have an overall grade of B+, which shows a decent understanding of the materials we covered in the semester. In the final cumulative test, they got 92%.\n",
      "We also did some patner projects this semester. Students are randomly paired, and the pairs have about a week to use the knowledge we have learned so far to create a project together. Among the three partner projects we did, Justin got at least one project in the B range. I am not worrying too much, But I encourage them to communicate more with the partner next time.\n",
      " \n",
      "Overall, this semester has been good for Justin. They have decreasing project grades and increasing test grades. I look forward to where Justin will go in the future!\n",
      "\n",
      "\n",
      "\n"
     ]
    },
    {
     "name": "stdout",
     "output_type": "stream",
     "text": "Type your custom text here for Bill: "
    }
   ],
   "source": [
    "with open('data.csv') as f:\n",
    "    f.readline()\n",
    "    for student in f:\n",
    "        name = student.strip().split(',')[1]\n",
    "        comment = create_comment(student.strip().split(','))\n",
    "        print(name)\n",
    "        print(comment)\n",
    "        print('\\n\\n')\n",
    "\n",
    "        out = open(name + \".txt\", \"w\")\n",
    "        out.write(comment)\n",
    "        out.close()"
   ]
  },
  {
   "cell_type": "code",
   "execution_count": 0,
   "metadata": {
    "collapsed": false
   },
   "outputs": [
   ],
   "source": [
   ]
  }
 ],
 "metadata": {
  "kernelspec": {
   "display_name": "Python 3 (system-wide)",
   "language": "python",
   "metadata": {
    "cocalc": {
     "description": "Python 3 programming language",
     "priority": 100,
     "url": "https://www.python.org/"
    }
   },
   "name": "python3"
  },
  "language_info": {
   "codemirror_mode": {
    "name": "ipython",
    "version": 3
   },
   "file_extension": ".py",
   "mimetype": "text/x-python",
   "name": "python",
   "nbconvert_exporter": "python",
   "pygments_lexer": "ipython3",
   "version": "3.6.9"
  }
 },
 "nbformat": 4,
 "nbformat_minor": 0
}